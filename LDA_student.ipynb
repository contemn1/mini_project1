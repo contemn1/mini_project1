{
 "cells": [
  {
   "cell_type": "markdown",
   "metadata": {},
   "source": [
    "# LDA\n",
    "\n",
    "We sugesst to keep this notebook and work on a copy of this file that you can refer to this notebook whenever is necessary.\n"
   ]
  },
  {
   "cell_type": "markdown",
   "metadata": {},
   "source": [
    "# 1- First import data and become familiar with the data. \n",
    "\n",
    "*To do so we should:* \n",
    "\n",
    "- Import required library \n",
    "\n",
    "- Import data set and become comftable with data "
   ]
  },
  {
   "cell_type": "code",
   "execution_count": 4,
   "metadata": {
    "collapsed": true
   },
   "outputs": [],
   "source": [
    "import numpy as np\n",
    "from sklearn.datasets import fetch_20newsgroups\n",
    "from sklearn.feature_extraction.text import TfidfVectorizer\n",
    "import pickle"
   ]
  },
  {
   "cell_type": "markdown",
   "metadata": {},
   "source": [
    "# 2-Some Data explanation is in order here **"
   ]
  },
  {
   "cell_type": "code",
   "execution_count": 5,
   "metadata": {
    "collapsed": true
   },
   "outputs": [],
   "source": [
    "categories = ['alt.atheism',\n",
    "              'talk.religion.misc',\n",
    "              'comp.graphics',\n",
    "              'sci.space']\n",
    "\n",
    "num_classes = len(categories)"
   ]
  },
  {
   "cell_type": "code",
   "execution_count": 6,
   "metadata": {
    "collapsed": false
   },
   "outputs": [
    {
     "name": "stderr",
     "output_type": "stream",
     "text": [
      "No handlers could be found for logger \"sklearn.datasets.twenty_newsgroups\"\n"
     ]
    }
   ],
   "source": [
    "train=fetch_20newsgroups(subset='train', categories=categories,shuffle=True)\n",
    "test=fetch_20newsgroups(subset='test', categories=categories,shuffle=True)"
   ]
  },
  {
   "cell_type": "code",
   "execution_count": 7,
   "metadata": {
    "collapsed": false
   },
   "outputs": [],
   "source": [
    "train_data=dict()\n",
    "test_data=dict()\n",
    "\n",
    "train_data['target'] = train.target\n",
    "test_data['target'] = test.target\n",
    "\n",
    "vectorizer = TfidfVectorizer(sublinear_tf=True, max_df=0.5,stop_words='english')\n",
    "train_data['data'] = vectorizer.fit_transform(train.data)\n",
    "test_data['data'] = vectorizer.transform(test.data)\n",
    "\n",
    "with open('train.pkl','wb') as f0:\n",
    "    pickle.dump(train_data,f0)\n",
    "f0.close()\n",
    "with open('test.pkl','wb') as f0:\n",
    "    pickle.dump(test_data,f0)\n",
    "f0.close()\n"
   ]
  },
  {
   "cell_type": "markdown",
   "metadata": {},
   "source": [
    "# 3-Data Dimension"
   ]
  },
  {
   "cell_type": "code",
   "execution_count": 8,
   "metadata": {
    "collapsed": false
   },
   "outputs": [
    {
     "data": {
      "text/plain": [
       "(2034, 33809)"
      ]
     },
     "execution_count": 8,
     "metadata": {},
     "output_type": "execute_result"
    }
   ],
   "source": [
    "train_data['data'].shape"
   ]
  },
  {
   "cell_type": "code",
   "execution_count": 9,
   "metadata": {
    "collapsed": false
   },
   "outputs": [
    {
     "data": {
      "text/plain": [
       "33809"
      ]
     },
     "execution_count": 9,
     "metadata": {},
     "output_type": "execute_result"
    }
   ],
   "source": [
    "feature_dim = train_data['data'].shape[1]\n",
    "feature_dim"
   ]
  },
  {
   "cell_type": "code",
   "execution_count": 23,
   "metadata": {
    "collapsed": false
   },
   "outputs": [
    {
     "data": {
      "text/plain": [
       "array([   3,    5,   16,   30,   34,   36,   38,   40,   42,   45,   46,\n",
       "         55,   61,   67,   76,   77,   82,   86,   88,   92,   94,   96,\n",
       "        100,  101,  108,  119,  120,  125,  128,  137,  142,  145,  146,\n",
       "        149,  150,  169,  175,  176,  182,  189,  190,  192,  196,  197,\n",
       "        202,  208,  210,  212,  213,  218,  219,  221,  225,  229,  231,\n",
       "        233,  242,  243,  245,  257,  261,  266,  272,  278,  279,  282,\n",
       "        287,  294,  296,  306,  307,  310,  315,  316,  322,  324,  327,\n",
       "        331,  332,  334,  346,  350,  362,  364,  367,  368,  370,  372,\n",
       "        377,  379,  380,  386,  392,  395,  398,  399,  409,  410,  411,\n",
       "        412,  419,  422,  424,  427,  440,  443,  448,  453,  455,  462,\n",
       "        467,  469,  477,  478,  493,  510,  511,  519,  520,  521,  527,\n",
       "        529,  530,  533,  536,  540,  543,  544,  545,  550,  551,  554,\n",
       "        561,  564,  582,  586,  589,  590,  591,  602,  609,  612,  617,\n",
       "        620,  624,  630,  631,  639,  645,  653,  654,  668,  669,  674,\n",
       "        683,  684,  686,  687,  703,  711,  716,  725,  730,  731,  733,\n",
       "        734,  735,  747,  748,  752,  754,  758,  760,  763,  765,  766,\n",
       "        768,  770,  773,  776,  778,  785,  786,  787,  793,  794,  810,\n",
       "        815,  820,  835,  838,  843,  844,  847,  850,  851,  853,  862,\n",
       "        863,  866,  882,  885,  886,  889,  890,  894,  899,  909,  913,\n",
       "        915,  917,  919,  920,  921,  933,  937,  938,  939,  940,  943,\n",
       "        951,  957,  959,  962,  964,  965,  973,  976,  979,  985,  987,\n",
       "        993,  995,  997,  999, 1002, 1008, 1026, 1030, 1031, 1032, 1039,\n",
       "       1041, 1042, 1046, 1050, 1052, 1056, 1057, 1059, 1060, 1062, 1065,\n",
       "       1066, 1073, 1074, 1078, 1079, 1096, 1097, 1101, 1104, 1106, 1107,\n",
       "       1109, 1119, 1120, 1129, 1132, 1140, 1143, 1150, 1151, 1156, 1170,\n",
       "       1176, 1180, 1182, 1183, 1185, 1192, 1194, 1197, 1201, 1207, 1212,\n",
       "       1213, 1220, 1229, 1230, 1241, 1245, 1248, 1257, 1259, 1261, 1264,\n",
       "       1267, 1270, 1272, 1274, 1275, 1284, 1288, 1291, 1293, 1294, 1306,\n",
       "       1307, 1309, 1315, 1318, 1320, 1325, 1326, 1330, 1335, 1339, 1341,\n",
       "       1344, 1345, 1355, 1357, 1360, 1371, 1380, 1387, 1388, 1393, 1399,\n",
       "       1408, 1410, 1413, 1416, 1417, 1419, 1421, 1425, 1427, 1429, 1431,\n",
       "       1433, 1437, 1440, 1441, 1443, 1447, 1455, 1457, 1462, 1464, 1465,\n",
       "       1476, 1477, 1480, 1489, 1496, 1498, 1500, 1501, 1507, 1511, 1520,\n",
       "       1529, 1530, 1537, 1538, 1541, 1543, 1548, 1553, 1557, 1559, 1565,\n",
       "       1568, 1571, 1574, 1576, 1579, 1593, 1596, 1599, 1603, 1605, 1615,\n",
       "       1617, 1621, 1622, 1623, 1624, 1625, 1630, 1632, 1633, 1638, 1639,\n",
       "       1641, 1642, 1647, 1656, 1657, 1662, 1685, 1688, 1701, 1703, 1713,\n",
       "       1721, 1722, 1741, 1744, 1746, 1747, 1754, 1755, 1759, 1767, 1780,\n",
       "       1783, 1785, 1787, 1808, 1811, 1813, 1818, 1820, 1823, 1825, 1827,\n",
       "       1836, 1837, 1840, 1845, 1855, 1863, 1865, 1866, 1868, 1872, 1874,\n",
       "       1879, 1883, 1885, 1895, 1900, 1903, 1906, 1920, 1921, 1922, 1934,\n",
       "       1941, 1944, 1947, 1955, 1956, 1964, 1966, 1972, 1975, 1982, 1983,\n",
       "       1986, 1987, 1992, 1993, 1994, 1998, 1999, 2000, 2004, 2007, 2009,\n",
       "       2015, 2016, 2021, 2022, 2025, 2026, 2032])"
      ]
     },
     "execution_count": 23,
     "metadata": {},
     "output_type": "execute_result"
    }
   ],
   "source": [
    "item_index = np.where(train_data['target']==0)\n",
    "item_index[0]"
   ]
  },
  {
   "cell_type": "markdown",
   "metadata": {},
   "source": [
    "# 4-LDA"
   ]
  },
  {
   "cell_type": "markdown",
   "metadata": {},
   "source": [
    "*If you start by applying LDA directely on the training data, you will encounter memory crash since the number of feasures is very big. Therefore, a dimension reduction is necessary.*\n",
    "\n",
    "- We use PCA to reduce the feasure dimension.\n",
    "\n",
    "- For now set the reduction factor to .005 to reduce the runing time until you make sure your code works. Then set the reduction factor to .03 to see if that improves the model performance.\n",
    "\n",
    "- Run the following cell to compute the shrunk data set. We use thePCA model built in Scikit-Learn library. "
   ]
  },
  {
   "cell_type": "code",
   "execution_count": 10,
   "metadata": {
    "collapsed": false
   },
   "outputs": [
    {
     "data": {
      "text/plain": [
       "1014"
      ]
     },
     "execution_count": 10,
     "metadata": {},
     "output_type": "execute_result"
    }
   ],
   "source": [
    "from sklearn.decomposition import PCA\n",
    "\n",
    "pca = PCA(n_components=int(.03*feature_dim))\n",
    "train_data_shrunk = pca.fit(train_data['data'].todense()).transform(train_data['data'].todense())\n",
    "test_data_shrunk = pca.transform(test_data['data'].todense())\n",
    "\n",
    "deducted_feature_dim = train_data_shrunk.shape[1]\n",
    "deducted_feature_dim"
   ]
  },
  {
   "cell_type": "markdown",
   "metadata": {},
   "source": [
    "*In following cell we are going to compute LDA parameters based on the formulas in (4.36), (4.37) and (4.38). The difference here is that we are not going to compute the denominator in (3.38) since that is not going to change the class score. Please make sure you have understood this. We should compute following parameters:*\n",
    "\n",
    "- mu: The mean of feasures in each class. \n",
    "\n",
    "- Sigma: The covariance matrix of each class. Be aware that in LDA we assumed that the covariance of classes are the same. Therefore, in real application we take the average of the covariance of all classes.\n",
    "\n",
    "- Pi: The class prior.\n",
    "\n",
    "- Sigma_ave: The average of covariance matrices of all classes.\n",
    "\n",
    "- beta: The parameter given in (4.37)\n",
    "\n",
    "- gamma: The parameter given in (4.36)"
   ]
  },
  {
   "cell_type": "code",
   "execution_count": 75,
   "metadata": {
    "collapsed": false
   },
   "outputs": [],
   "source": [
    "def calculate_sigma_and_mu(train_data, train_data_shrunk, category):\n",
    "    index = np.where(train_data['target'] == category)[0]\n",
    "    vectors = train_data_shrunk[index]\n",
    "    mean = vectors.mean(axis=0)\n",
    "    covariance = np.cov(vectors, rowvar=False)\n",
    "    return mean, covariance"
   ]
  },
  {
   "cell_type": "code",
   "execution_count": 81,
   "metadata": {
    "collapsed": false
   },
   "outputs": [],
   "source": [
    "_, y_t = np.unique(train_data['target'], return_inverse=True)\n",
    "prior = np.bincount(y_t) / float(len(train_data['target']))"
   ]
  },
  {
   "cell_type": "code",
   "execution_count": 44,
   "metadata": {
    "collapsed": false,
    "scrolled": true
   },
   "outputs": [],
   "source": [
    "mu = np.zeros([train_data_shrunk.shape[1],len(categories)], dtype=float)\n",
    "Sigma = np.zeros([train_data_shrunk.shape[1],train_data_shrunk.shape[1],len(categories)])\n",
    "Pi = np.zeros(len(categories),dtype=float)\n",
    "\n",
    "for i in range(0,len(categories)):\n",
    "    category_sigma, category_mu = calculate_sigma_and_mu(train_data, train_data_shrunk, i)\n",
    "    mu_matrix[:,category] = mean\n",
    "    Sigma_matrix[:,:,category] = np.cov(vectors, rowvar=False)\n",
    "\n",
    "Sigma_ave = Sigma.mean(axis=2)\n",
    "beta = \n",
    "gamma = \n"
   ]
  },
  {
   "cell_type": "markdown",
   "metadata": {},
   "source": [
    "*In the following cell we are going to compute:*\n",
    "- class_scores: The class score of each data point in the test data set. This is the numerator in (4.38) \n",
    "- class_prediction: The predicted class based on the class score which is going to be the maximum of all scores of classes.\n",
    "- accuracy_rate: The rate of accurracy of our LDA implementation"
   ]
  },
  {
   "cell_type": "code",
   "execution_count": 46,
   "metadata": {
    "collapsed": false
   },
   "outputs": [
    {
     "data": {
      "text/plain": [
       "0.71249076127124911"
      ]
     },
     "execution_count": 46,
     "metadata": {},
     "output_type": "execute_result"
    }
   ],
   "source": [
    "class_scores = \n",
    "class_prediction = \n",
    "accuracy_rate = (**).mean()\n",
    "accuracy_rate\n"
   ]
  },
  {
   "cell_type": "markdown",
   "metadata": {},
   "source": [
    "# 5-Compare with Other Linear Models"
   ]
  },
  {
   "cell_type": "markdown",
   "metadata": {},
   "source": [
    "*In following cell we are going to compare LDA with other linear models built in SciKit-Learn*"
   ]
  },
  {
   "cell_type": "code",
   "execution_count": null,
   "metadata": {
    "collapsed": true
   },
   "outputs": [],
   "source": [
    "from sklearn.neighbors import KNeighborsClassifier\n",
    "\n",
    "neigh = KNeighborsClassifier(n_neighbors=4)\n",
    "neigh.fit(train_data_shrunk,train_data['target']) \n",
    "(abs(neigh.predict(test_data_shrunk)-test_data['target'])!=0).mean()\n"
   ]
  }
 ],
 "metadata": {
  "anaconda-cloud": {},
  "kernelspec": {
   "display_name": "Python 2",
   "language": "python",
   "name": "python2"
  },
  "language_info": {
   "codemirror_mode": {
    "name": "ipython",
    "version": 2
   },
   "file_extension": ".py",
   "mimetype": "text/x-python",
   "name": "python",
   "nbconvert_exporter": "python",
   "pygments_lexer": "ipython2",
   "version": "2.7.13"
  }
 },
 "nbformat": 4,
 "nbformat_minor": 1
}
